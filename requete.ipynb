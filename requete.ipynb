{
 "cells": [
  {
   "cell_type": "code",
   "execution_count": 4,
   "metadata": {
    "ExecuteTime": {
     "end_time": "2020-05-03T14:34:00.093839Z",
     "start_time": "2020-05-03T14:33:59.090437Z"
    }
   },
   "outputs": [],
   "source": [
    "import pandas as pd\n",
    "import pymysql"
   ]
  },
  {
   "cell_type": "code",
   "execution_count": 25,
   "metadata": {
    "ExecuteTime": {
     "end_time": "2020-05-06T07:40:38.633982Z",
     "start_time": "2020-05-06T07:40:38.567301Z"
    }
   },
   "outputs": [],
   "source": [
    "# Import CSV\n",
    "data = pd.read_csv ('epilobee.csv', sep = ';')  \n",
    "df = pd.DataFrame(data)"
   ]
  },
  {
   "cell_type": "code",
   "execution_count": 26,
   "metadata": {
    "ExecuteTime": {
     "end_time": "2020-05-06T07:40:39.609960Z",
     "start_time": "2020-05-06T07:40:39.560580Z"
    },
    "scrolled": true
   },
   "outputs": [
    {
     "data": {
      "text/html": [
       "<div>\n",
       "<style scoped>\n",
       "    .dataframe tbody tr th:only-of-type {\n",
       "        vertical-align: middle;\n",
       "    }\n",
       "\n",
       "    .dataframe tbody tr th {\n",
       "        vertical-align: top;\n",
       "    }\n",
       "\n",
       "    .dataframe thead th {\n",
       "        text-align: right;\n",
       "    }\n",
       "</style>\n",
       "<table border=\"1\" class=\"dataframe\">\n",
       "  <thead>\n",
       "    <tr style=\"text-align: right;\">\n",
       "      <th></th>\n",
       "      <th>ID_api</th>\n",
       "      <th>Seasonal_mortality</th>\n",
       "      <th>Age</th>\n",
       "      <th>Activity</th>\n",
       "      <th>Beekeep_for</th>\n",
       "      <th>Qualif</th>\n",
       "      <th>Training</th>\n",
       "      <th>Coop_treat</th>\n",
       "      <th>Bee_population_size</th>\n",
       "      <th>Country</th>\n",
       "      <th>...</th>\n",
       "      <th>Environment</th>\n",
       "      <th>VarroosisV2</th>\n",
       "      <th>ChronicParalysisV2</th>\n",
       "      <th>AmericanFoulbroodV2</th>\n",
       "      <th>NosemosisV2</th>\n",
       "      <th>EuropeanFoulbroodV2</th>\n",
       "      <th>Migration</th>\n",
       "      <th>Merger</th>\n",
       "      <th>Winter_Mortality_Class</th>\n",
       "      <th>Program</th>\n",
       "    </tr>\n",
       "  </thead>\n",
       "  <tbody>\n",
       "    <tr>\n",
       "      <th>0</th>\n",
       "      <td>1000_A</td>\n",
       "      <td>0</td>\n",
       "      <td>4___Over 65</td>\n",
       "      <td>Part_time</td>\n",
       "      <td>2___2-5 years</td>\n",
       "      <td>No</td>\n",
       "      <td>Yes</td>\n",
       "      <td>Yes</td>\n",
       "      <td>1___Less than 51 colonies</td>\n",
       "      <td>LATVIA</td>\n",
       "      <td>...</td>\n",
       "      <td>Diverse</td>\n",
       "      <td>Not_Suffering</td>\n",
       "      <td>Not_Suffering</td>\n",
       "      <td>Not_Suffering</td>\n",
       "      <td>Not_Suffering</td>\n",
       "      <td>Not_Suffering</td>\n",
       "      <td>No</td>\n",
       "      <td>No</td>\n",
       "      <td>5__21 - 50 %</td>\n",
       "      <td>First Year</td>\n",
       "    </tr>\n",
       "    <tr>\n",
       "      <th>1</th>\n",
       "      <td>1003_A</td>\n",
       "      <td>0</td>\n",
       "      <td>4___Over 65</td>\n",
       "      <td>Hobby</td>\n",
       "      <td>3___More than 5 years</td>\n",
       "      <td>No</td>\n",
       "      <td>Yes</td>\n",
       "      <td>Yes</td>\n",
       "      <td>1___Less than 51 colonies</td>\n",
       "      <td>LATVIA</td>\n",
       "      <td>...</td>\n",
       "      <td>Diverse</td>\n",
       "      <td>Not_Suffering</td>\n",
       "      <td>Not_Suffering</td>\n",
       "      <td>Not_Suffering</td>\n",
       "      <td>Not_Suffering</td>\n",
       "      <td>Not_Suffering</td>\n",
       "      <td>No</td>\n",
       "      <td>No</td>\n",
       "      <td>5__21 - 50 %</td>\n",
       "      <td>First Year</td>\n",
       "    </tr>\n",
       "    <tr>\n",
       "      <th>2</th>\n",
       "      <td>1004_A</td>\n",
       "      <td>0</td>\n",
       "      <td>1___Less than 30</td>\n",
       "      <td>Part_time</td>\n",
       "      <td>1___Less than 2 years</td>\n",
       "      <td>No</td>\n",
       "      <td>No</td>\n",
       "      <td>No</td>\n",
       "      <td>2___51 - 100</td>\n",
       "      <td>GREECE</td>\n",
       "      <td>...</td>\n",
       "      <td>Farmland</td>\n",
       "      <td>Not_Suffering</td>\n",
       "      <td>Not_Suffering</td>\n",
       "      <td>Not_Suffering</td>\n",
       "      <td>Not_Suffering</td>\n",
       "      <td>Not_Suffering</td>\n",
       "      <td>No</td>\n",
       "      <td>No</td>\n",
       "      <td>1__No Mortality</td>\n",
       "      <td>First Year</td>\n",
       "    </tr>\n",
       "    <tr>\n",
       "      <th>3</th>\n",
       "      <td>1006_A</td>\n",
       "      <td>0</td>\n",
       "      <td>4___Over 65</td>\n",
       "      <td>Hobby</td>\n",
       "      <td>3___More than 5 years</td>\n",
       "      <td>No</td>\n",
       "      <td>No</td>\n",
       "      <td>Yes</td>\n",
       "      <td>1___Less than 51 colonies</td>\n",
       "      <td>SLOVAKIA</td>\n",
       "      <td>...</td>\n",
       "      <td>Diverse</td>\n",
       "      <td>Not_Suffering</td>\n",
       "      <td>Not_Suffering</td>\n",
       "      <td>Not_Suffering</td>\n",
       "      <td>Not_Suffering</td>\n",
       "      <td>Not_Suffering</td>\n",
       "      <td>No</td>\n",
       "      <td>No</td>\n",
       "      <td>1__No Mortality</td>\n",
       "      <td>First Year</td>\n",
       "    </tr>\n",
       "    <tr>\n",
       "      <th>4</th>\n",
       "      <td>1007_A</td>\n",
       "      <td>0</td>\n",
       "      <td>4___Over 65</td>\n",
       "      <td>Hobby</td>\n",
       "      <td>2___2-5 years</td>\n",
       "      <td>No</td>\n",
       "      <td>No</td>\n",
       "      <td>Yes</td>\n",
       "      <td>1___Less than 51 colonies</td>\n",
       "      <td>SLOVAKIA</td>\n",
       "      <td>...</td>\n",
       "      <td>Wood</td>\n",
       "      <td>Not_Suffering</td>\n",
       "      <td>Not_Suffering</td>\n",
       "      <td>Not_Suffering</td>\n",
       "      <td>Not_Suffering</td>\n",
       "      <td>Not_Suffering</td>\n",
       "      <td>No</td>\n",
       "      <td>No</td>\n",
       "      <td>5__21 - 50 %</td>\n",
       "      <td>First Year</td>\n",
       "    </tr>\n",
       "  </tbody>\n",
       "</table>\n",
       "<p>5 rows × 39 columns</p>\n",
       "</div>"
      ],
      "text/plain": [
       "   ID_api  Seasonal_mortality               Age   Activity  \\\n",
       "0  1000_A                   0       4___Over 65  Part_time   \n",
       "1  1003_A                   0       4___Over 65      Hobby   \n",
       "2  1004_A                   0  1___Less than 30  Part_time   \n",
       "3  1006_A                   0       4___Over 65      Hobby   \n",
       "4  1007_A                   0       4___Over 65      Hobby   \n",
       "\n",
       "             Beekeep_for Qualif Training Coop_treat  \\\n",
       "0          2___2-5 years     No      Yes        Yes   \n",
       "1  3___More than 5 years     No      Yes        Yes   \n",
       "2  1___Less than 2 years     No       No         No   \n",
       "3  3___More than 5 years     No       No        Yes   \n",
       "4          2___2-5 years     No       No        Yes   \n",
       "\n",
       "         Bee_population_size   Country  ... Environment    VarroosisV2  \\\n",
       "0  1___Less than 51 colonies    LATVIA  ...     Diverse  Not_Suffering   \n",
       "1  1___Less than 51 colonies    LATVIA  ...     Diverse  Not_Suffering   \n",
       "2               2___51 - 100    GREECE  ...    Farmland  Not_Suffering   \n",
       "3  1___Less than 51 colonies  SLOVAKIA  ...     Diverse  Not_Suffering   \n",
       "4  1___Less than 51 colonies  SLOVAKIA  ...        Wood  Not_Suffering   \n",
       "\n",
       "  ChronicParalysisV2 AmericanFoulbroodV2    NosemosisV2 EuropeanFoulbroodV2  \\\n",
       "0      Not_Suffering       Not_Suffering  Not_Suffering       Not_Suffering   \n",
       "1      Not_Suffering       Not_Suffering  Not_Suffering       Not_Suffering   \n",
       "2      Not_Suffering       Not_Suffering  Not_Suffering       Not_Suffering   \n",
       "3      Not_Suffering       Not_Suffering  Not_Suffering       Not_Suffering   \n",
       "4      Not_Suffering       Not_Suffering  Not_Suffering       Not_Suffering   \n",
       "\n",
       "  Migration Merger Winter_Mortality_Class     Program  \n",
       "0        No     No           5__21 - 50 %  First Year  \n",
       "1        No     No           5__21 - 50 %  First Year  \n",
       "2        No     No        1__No Mortality  First Year  \n",
       "3        No     No        1__No Mortality  First Year  \n",
       "4        No     No           5__21 - 50 %  First Year  \n",
       "\n",
       "[5 rows x 39 columns]"
      ]
     },
     "execution_count": 26,
     "metadata": {},
     "output_type": "execute_result"
    }
   ],
   "source": [
    "df.head()"
   ]
  },
  {
   "cell_type": "code",
   "execution_count": 27,
   "metadata": {
    "ExecuteTime": {
     "end_time": "2020-05-06T07:40:41.295648Z",
     "start_time": "2020-05-06T07:40:41.199228Z"
    }
   },
   "outputs": [],
   "source": [
    "#mettre au bon format\n",
    "mapping = {\n",
    "        \"4___Over 65\" : 4,\n",
    "        \"3___45-65\" : 3,\n",
    "        \"2___30-45\" : 2,\n",
    "        \"1___Less than 30\" : 1\n",
    "}\n",
    "df[\"Age\"]=df[\"Age\"].replace(mapping)\n",
    "\n",
    "\n",
    "mapping = {\n",
    "        \"3___More than 5 years\" : 3,\n",
    "        \"2___2-5 years\" : 2,\n",
    "        \"1___Less than 2 years\" : 1\n",
    "}\n",
    "df[\"Beekeep_for\"]=df[\"Beekeep_for\"].replace(mapping)\n",
    "\n",
    "\n",
    "mapping = {\n",
    "        '1___Less than 51 colonies' : 1, \n",
    "        '2___51 - 100' : 2,\n",
    "        '3___101 - 150' : 3, \n",
    "        '4___151 - 200' : 4,\n",
    "        '5___201 - 300' : 5,\n",
    "        '6___More than 300 colonies' : 6 \n",
    "}\n",
    "df[\"Bee_population_size\"]=df[\"Bee_population_size\"].replace(mapping)\n",
    "\n",
    "\n",
    "mapping = {\n",
    "        '1__No Mortality' : 1, \n",
    "        '2__1 - 5 %' : 2,\n",
    "        '3__6 - 10 %' : 3, \n",
    "        '4__11 - 20 %' : 4, \n",
    "        '5__21 - 50 %' : 5,\n",
    "        '6__More than 51%' : 6\n",
    "}\n",
    "df[\"Winter_Mortality_Class\"]=df[\"Winter_Mortality_Class\"].replace(mapping)\n",
    "\n",
    "\n",
    "# les numéros matchent les id de la BD\n",
    "mapping = {\n",
    "        \"Part_time\" : 2,\n",
    "        \"Hobby\" : 1,\n",
    "        \"Professional\" : 3\n",
    "}\n",
    "df[\"Activity\"]=df[\"Activity\"].replace(mapping)\n",
    "\n",
    "\n",
    "# les numéros matchent les id de la BD\n",
    "mapping = {\n",
    "        \"A. m. mellifera\" : 1,\n",
    "        \"A. m. ccm\" : 2,\n",
    "        \"A. m. carnica\" : 3,\n",
    "        \"Hybrid\" : 4,\n",
    "        \"Buckfast\" : 5,\n",
    "        \"A. m. ligustica\" : 6,\n",
    "        \"Local bees\" : 7\n",
    "}\n",
    "df[\"Breed\"]=df[\"Breed\"].replace(mapping)\n",
    "\n",
    "\n",
    "mapping = {\n",
    "        \"Yes\" : 1,\n",
    "        \"No\" : 0\n",
    "}\n",
    "df[\"Qualif\"]=df[\"Qualif\"].replace(mapping)\n",
    "df[\"Training\"]=df[\"Training\"].replace(mapping)\n",
    "df[\"Coop_treat\"]=df[\"Coop_treat\"].replace(mapping)\n",
    "df[\"Chronic_Depop\"]=df[\"Chronic_Depop\"].replace(mapping)\n",
    "df[\"VarroaMites\"]=df[\"VarroaMites\"].replace(mapping)\n",
    "\n",
    "\n",
    "mapping = {\n",
    "        \"Suffering\" : 1,\n",
    "        \"Not_Suffering\" : 0\n",
    "}\n",
    "df[\"VarroosisV2\"]=df[\"VarroosisV2\"].replace(mapping)\n",
    "df[\"ChronicParalysisV2\"]=df[\"ChronicParalysisV2\"].replace(mapping)\n",
    "df[\"AmericanFoulbroodV2\"]=df[\"AmericanFoulbroodV2\"].replace(mapping)\n",
    "df[\"NosemosisV2\"]=df[\"NosemosisV2\"].replace(mapping)\n",
    "df[\"EuropeanFoulbroodV2\"]=df[\"EuropeanFoulbroodV2\"].replace(mapping)\n",
    "\n",
    "\n",
    "mapping = {\n",
    "        31 : 1 ,\n",
    "        32 : 2,\n",
    "        33 : 3,\n",
    "        34 : 4,\n",
    "        35 : 5,\n",
    "        23 : 6\n",
    "}"
   ]
  },
  {
   "cell_type": "code",
   "execution_count": 36,
   "metadata": {
    "ExecuteTime": {
     "end_time": "2020-05-08T12:33:46.461519Z",
     "start_time": "2020-05-08T12:33:46.455975Z"
    }
   },
   "outputs": [],
   "source": [
    "bdd_1000 = open('requeteBDD1000.sql', 'w') # injection des 900 lignes suivants les 100 premièresb"
   ]
  },
  {
   "cell_type": "code",
   "execution_count": 35,
   "metadata": {
    "ExecuteTime": {
     "end_time": "2020-05-08T12:33:44.714778Z",
     "start_time": "2020-05-08T12:33:44.670034Z"
    }
   },
   "outputs": [],
   "source": [
    "bdd_100 = open('requeteBDD100.sql', 'w') # injection des 100 premières lignes"
   ]
  },
  {
   "cell_type": "code",
   "execution_count": 37,
   "metadata": {
    "ExecuteTime": {
     "end_time": "2020-05-08T12:33:47.763703Z",
     "start_time": "2020-05-08T12:33:47.753285Z"
    }
   },
   "outputs": [],
   "source": [
    "bdd_1500 = open('requeteBDD1500.sql', 'w') # injection des 500 lignes suivant les 1000 premières"
   ]
  },
  {
   "cell_type": "markdown",
   "metadata": {},
   "source": [
    "REQUETES SQL D'ALIMENTATION DES TABLES :"
   ]
  },
  {
   "cell_type": "markdown",
   "metadata": {},
   "source": [
    "100 premières lignes :"
   ]
  },
  {
   "cell_type": "code",
   "execution_count": 38,
   "metadata": {
    "ExecuteTime": {
     "end_time": "2020-05-08T12:33:50.033168Z",
     "start_time": "2020-05-08T12:33:49.974742Z"
    }
   },
   "outputs": [],
   "source": [
    "cpt = 0\n",
    "for row in df.itertuples() :\n",
    "    if cpt<100 :\n",
    "        \n",
    "        bdd_100.write('INSERT INTO `IGI-3014-CLARET`.BEEKEEPER (`Country`, `Cooperative_treatment`, `Training`, `Qualification`, `FK_Experience`, `FK_Activity`, `Age`, `id_api`) VALUES')\n",
    "        bdd_100.write(\"('{}', {}, {}, {}, {}, {}, {}, '{}');\".format (row.Country, row.Coop_treat, row.Training, row.Qualif, row.Beekeep_for, row.Activity, row.Age, row.ID_api))\n",
    "        bdd_100.write('INSERT INTO `IGI-3014-CLARET`.VISIT (`Period`, `FK_Beekeeper`) VALUES')\n",
    "        bdd_100.write(\"('V2', (SELECT MAX(id_Beekeeper) FROM BEEKEEPER));\")\n",
    "        bdd_100.write('INSERT INTO `IGI-3014-CLARET`.BEE_POPULATION (`Chronic_Depopulation`, `Bee_population_size`, `Winter_mortality_class`, `FK_Breed`, `FK_Beekeeper`) VALUES')\n",
    "        bdd_100.write(\"({}, {}, {}, {}, (SELECT MAX(id_Beekeeper) FROM BEEKEEPER));\".format(row.Chronic_Depop, row.Bee_population_size, row.Winter_Mortality_Class, row.Breed))\n",
    "        for each in mapping :\n",
    "            bdd_100.write('INSERT INTO `IGI-3014-CLARET`.JT_OBSERVATION (`FK_Disease`, `FK_Visit`, `Suffering`) VALUES')\n",
    "            bdd_100.write(\"({}, (SELECT MAX(id_Visit) FROM VISIT), {});\".format(mapping[each], row[each]))\n",
    "            \n",
    "    cpt+=1"
   ]
  },
  {
   "cell_type": "code",
   "execution_count": 39,
   "metadata": {
    "ExecuteTime": {
     "end_time": "2020-05-08T12:33:51.220974Z",
     "start_time": "2020-05-08T12:33:51.212874Z"
    }
   },
   "outputs": [],
   "source": [
    "bdd_100.close()"
   ]
  },
  {
   "cell_type": "markdown",
   "metadata": {},
   "source": [
    "1000 premières lignes :"
   ]
  },
  {
   "cell_type": "code",
   "execution_count": 40,
   "metadata": {
    "ExecuteTime": {
     "end_time": "2020-05-08T12:33:52.148225Z",
     "start_time": "2020-05-08T12:33:52.063040Z"
    }
   },
   "outputs": [],
   "source": [
    "cpt = 0\n",
    "for row in df.itertuples() :\n",
    "    if ((cpt>100) and (cpt<1000)) :\n",
    "        \n",
    "        bdd_1000.write('INSERT INTO `IGI-3014-CLARET`.BEEKEEPER (`Country`, `Cooperative_treatment`, `Training`, `Qualification`, `FK_Experience`, `FK_Activity`, `Age`, `id_api`) VALUES')\n",
    "        bdd_1000.write(\"('{}', {}, {}, {}, {}, {}, {}, '{}');\".format (row.Country, row.Coop_treat, row.Training, row.Qualif, row.Beekeep_for, row.Activity, row.Age, row.ID_api))\n",
    "        bdd_1000.write('INSERT INTO `IGI-3014-CLARET`.VISIT (`Period`, `FK_Beekeeper`) VALUES')\n",
    "        bdd_1000.write(\"('V2', (SELECT MAX(id_Beekeeper) FROM BEEKEEPER));\")\n",
    "        bdd_1000.write('INSERT INTO `IGI-3014-CLARET`.BEE_POPULATION (`Chronic_Depopulation`, `Bee_population_size`, `Winter_mortality_class`, `FK_Breed`, `FK_Beekeeper`) VALUES')\n",
    "        bdd_1000.write(\"({}, {}, {}, {}, (SELECT MAX(id_Beekeeper) FROM BEEKEEPER));\".format(row.Chronic_Depop, row.Bee_population_size, row.Winter_Mortality_Class, row.Breed))\n",
    "        for each in mapping :\n",
    "            bdd_1000.write('INSERT INTO `IGI-3014-CLARET`.JT_OBSERVATION (`FK_Disease`, `FK_Visit`, `Suffering`) VALUES')\n",
    "            bdd_1000.write(\"({}, (SELECT MAX(id_Visit) FROM VISIT), {});\".format(mapping[each], row[each]))\n",
    "            \n",
    "    cpt+=1"
   ]
  },
  {
   "cell_type": "code",
   "execution_count": 41,
   "metadata": {
    "ExecuteTime": {
     "end_time": "2020-05-08T12:33:53.651655Z",
     "start_time": "2020-05-08T12:33:53.646043Z"
    }
   },
   "outputs": [],
   "source": [
    "bdd_1000.close()"
   ]
  },
  {
   "cell_type": "markdown",
   "metadata": {},
   "source": [
    "2000 premières lignes :"
   ]
  },
  {
   "cell_type": "code",
   "execution_count": 42,
   "metadata": {
    "ExecuteTime": {
     "end_time": "2020-05-08T12:33:54.606563Z",
     "start_time": "2020-05-08T12:33:54.543016Z"
    }
   },
   "outputs": [],
   "source": [
    "cpt = 0\n",
    "for row in df.itertuples() :\n",
    "    if ((cpt>=1000) and (cpt<1500)) :\n",
    "        \n",
    "        bdd_1500.write('INSERT INTO `IGI-3014-CLARET`.BEEKEEPER (`Country`, `Cooperative_treatment`, `Training`, `Qualification`, `FK_Experience`, `FK_Activity`, `Age`, `id_api`) VALUES')\n",
    "        bdd_1500.write(\"('{}', {}, {}, {}, {}, {}, {}, '{}');\".format (row.Country, row.Coop_treat, row.Training, row.Qualif, row.Beekeep_for, row.Activity, row.Age, row.ID_api))\n",
    "        bdd_1500.write('INSERT INTO `IGI-3014-CLARET`.VISIT (`Period`, `FK_Beekeeper`) VALUES')\n",
    "        bdd_1500.write(\"('V2', (SELECT MAX(id_Beekeeper) FROM BEEKEEPER));\")\n",
    "        bdd_1500.write('INSERT INTO `IGI-3014-CLARET`.BEE_POPULATION (`Chronic_Depopulation`, `Bee_population_size`, `Winter_mortality_class`, `FK_Breed`, `FK_Beekeeper`) VALUES')\n",
    "        bdd_1500.write(\"({}, {}, {}, {}, (SELECT MAX(id_Beekeeper) FROM BEEKEEPER));\".format(row.Chronic_Depop, row.Bee_population_size, row.Winter_Mortality_Class, row.Breed))\n",
    "        for each in mapping :\n",
    "            bdd_1500.write('INSERT INTO `IGI-3014-CLARET`.JT_OBSERVATION (`FK_Disease`, `FK_Visit`, `Suffering`) VALUES')\n",
    "            bdd_1500.write(\"({}, (SELECT MAX(id_Visit) FROM VISIT), {});\".format(mapping[each], row[each]))\n",
    "            \n",
    "    cpt+=1"
   ]
  },
  {
   "cell_type": "code",
   "execution_count": 43,
   "metadata": {
    "ExecuteTime": {
     "end_time": "2020-05-08T12:33:54.966003Z",
     "start_time": "2020-05-08T12:33:54.959374Z"
    }
   },
   "outputs": [],
   "source": [
    "bdd_1500.close()"
   ]
  },
  {
   "cell_type": "code",
   "execution_count": null,
   "metadata": {},
   "outputs": [],
   "source": []
  }
 ],
 "metadata": {
  "hide_input": false,
  "kernelspec": {
   "display_name": "Python 3",
   "language": "python",
   "name": "python3"
  },
  "language_info": {
   "codemirror_mode": {
    "name": "ipython",
    "version": 3
   },
   "file_extension": ".py",
   "mimetype": "text/x-python",
   "name": "python",
   "nbconvert_exporter": "python",
   "pygments_lexer": "ipython3",
   "version": "3.7.3"
  },
  "nbTranslate": {
   "displayLangs": [
    "*"
   ],
   "hotkey": "alt-t",
   "langInMainMenu": true,
   "sourceLang": "en",
   "targetLang": "fr",
   "useGoogleTranslate": true
  },
  "toc": {
   "base_numbering": 1,
   "nav_menu": {},
   "number_sections": true,
   "sideBar": true,
   "skip_h1_title": false,
   "title_cell": "Table of Contents",
   "title_sidebar": "Contents",
   "toc_cell": false,
   "toc_position": {},
   "toc_section_display": true,
   "toc_window_display": false
  },
  "varInspector": {
   "cols": {
    "lenName": 16,
    "lenType": 16,
    "lenVar": 40
   },
   "kernels_config": {
    "python": {
     "delete_cmd_postfix": "",
     "delete_cmd_prefix": "del ",
     "library": "var_list.py",
     "varRefreshCmd": "print(var_dic_list())"
    },
    "r": {
     "delete_cmd_postfix": ") ",
     "delete_cmd_prefix": "rm(",
     "library": "var_list.r",
     "varRefreshCmd": "cat(var_dic_list()) "
    }
   },
   "types_to_exclude": [
    "module",
    "function",
    "builtin_function_or_method",
    "instance",
    "_Feature"
   ],
   "window_display": false
  }
 },
 "nbformat": 4,
 "nbformat_minor": 2
}
